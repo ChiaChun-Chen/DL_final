{
 "cells": [
  {
   "cell_type": "code",
   "execution_count": 1,
   "metadata": {},
   "outputs": [
    {
     "name": "stderr",
     "output_type": "stream",
     "text": [
      "/home/skes/anaconda3-202309/envs/ccp/lib/python3.9/site-packages/tqdm/auto.py:21: TqdmWarning: IProgress not found. Please update jupyter and ipywidgets. See https://ipywidgets.readthedocs.io/en/stable/user_install.html\n",
      "  from .autonotebook import tqdm as notebook_tqdm\n"
     ]
    }
   ],
   "source": [
    "from transformers import pipeline"
   ]
  },
  {
   "cell_type": "code",
   "execution_count": 2,
   "metadata": {},
   "outputs": [
    {
     "name": "stderr",
     "output_type": "stream",
     "text": [
      "config.json: 100%|██████████| 615/615 [00:00<00:00, 149kB/s]\n",
      "pytorch_model.bin: 100%|██████████| 268M/268M [00:14<00:00, 18.5MB/s] \n",
      "tokenizer_config.json: 100%|██████████| 320/320 [00:00<00:00, 392kB/s]\n",
      "vocab.txt: 100%|██████████| 232k/232k [00:00<00:00, 590kB/s]\n",
      "tokenizer.json: 100%|██████████| 711k/711k [00:00<00:00, 911kB/s]\n",
      "special_tokens_map.json: 100%|██████████| 125/125 [00:00<00:00, 58.8kB/s]\n"
     ]
    }
   ],
   "source": [
    "model_name = \"youlun77/finetuning-sentiment-model-25000-samples\"\n",
    "classifier = pipeline('sentiment-analysis', model=model_name)"
   ]
  },
  {
   "cell_type": "code",
   "execution_count": 3,
   "metadata": {},
   "outputs": [
    {
     "data": {
      "text/plain": [
       "[{'label': 'LABEL_1', 'score': 0.9927880167961121}]"
      ]
     },
     "execution_count": 3,
     "metadata": {},
     "output_type": "execute_result"
    }
   ],
   "source": [
    "classifier(\"What a good day!\")"
   ]
  },
  {
   "cell_type": "code",
   "execution_count": 6,
   "metadata": {},
   "outputs": [
    {
     "name": "stdout",
     "output_type": "stream",
     "text": [
      "response = {'label': 'LABEL_0', 'score': 0.966174840927124}\n"
     ]
    }
   ],
   "source": [
    "response = classifier(\"Such a bad pillow!\")\n",
    "print(f'response = {response[0]}')"
   ]
  },
  {
   "cell_type": "code",
   "execution_count": null,
   "metadata": {},
   "outputs": [],
   "source": []
  }
 ],
 "metadata": {
  "kernelspec": {
   "display_name": "ccp",
   "language": "python",
   "name": "python3"
  },
  "language_info": {
   "codemirror_mode": {
    "name": "ipython",
    "version": 3
   },
   "file_extension": ".py",
   "mimetype": "text/x-python",
   "name": "python",
   "nbconvert_exporter": "python",
   "pygments_lexer": "ipython3",
   "version": "3.9.18"
  }
 },
 "nbformat": 4,
 "nbformat_minor": 2
}
